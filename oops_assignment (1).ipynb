{
  "nbformat": 4,
  "nbformat_minor": 0,
  "metadata": {
    "colab": {
      "provenance": []
    },
    "kernelspec": {
      "name": "python3",
      "display_name": "Python 3"
    },
    "language_info": {
      "name": "python"
    }
  },
  "cells": [
    {
      "cell_type": "markdown",
      "source": [
        "1.\tWhat are the five key concepts of Object-Oriented Programming (OOPS)?\n",
        "\n",
        "The five key concepts of Object-Oriented Programming (OOP) are:\n",
        "1.\tEncapsulation\n",
        "o\tEncapsulation is the bundling of data (attributes) and methods (functions) that operate on the data into a single unit, called a class.\n",
        "o\tIt restricts direct access to some of the object's components, which helps protect the integrity of the data. Access is typically controlled using access modifiers such as private, protected, and public.\n",
        "2.\tAbstraction\n",
        "o\tAbstraction involves hiding the complex implementation details of a system and exposing only the essential features.\n",
        "o\tIt allows a user to interact with the object through a simplified interface without needing to understand the underlying complexities.\n",
        "3.\tInheritance\n",
        "o\tInheritance allows a class (child or derived class) to inherit properties and methods from another class (parent or base class).\n",
        "o\tIt promotes code reuse and establishes a hierarchical relationship between classes.\n",
        "4.\tPolymorphism\n",
        "o\tPolymorphism allows objects of different classes to be treated as objects of a common superclass.\n",
        "o\tIt can be achieved through method overloading (compile-time polymorphism) and method overriding (runtime polymorphism), enabling flexibility and dynamic behavior.\n",
        "5.\tComposition (or Association)\n",
        "o\tWhile not always explicitly listed, composition is a key principle in OOP where objects are built using references to other objects.\n",
        "o\tIt describes a \"has-a\" relationship (e.g., a car has a steering wheel), enabling modular and scalable design.\n",
        "\n"
      ],
      "metadata": {
        "id": "OPAPMivzC8z6"
      }
    },
    {
      "cell_type": "markdown",
      "source": [
        "2. Write a Python class for a Car with attributes for make, model, and year. Include a method to display\n",
        "the car's information"
      ],
      "metadata": {
        "id": "ZMasJMtbI1F-"
      }
    },
    {
      "cell_type": "code",
      "source": [
        "class Car:\n",
        "    def __init__(self, make, model, year):\n",
        "        \"\"\"Initialize the car with make, model, and year.\"\"\"\n",
        "        self.make = make\n",
        "        self.model = model\n",
        "        self.year = year\n",
        "\n",
        "    def display_info(self):\n",
        "        \"\"\"Display the car's information.\"\"\"\n",
        "        return f\"{self.year} {self.make} {self.model}\"\n",
        "\n",
        "# Example usage\n",
        "my_car = Car(\"Toyota\", \"Corolla\", 2022)\n",
        "print(my_car.display_info())  # Output: 2022 Toyota Corolla\n"
      ],
      "metadata": {
        "colab": {
          "base_uri": "https://localhost:8080/",
          "height": 0
        },
        "id": "ny8QQw_LI15R",
        "outputId": "fbbabf71-a653-4171-bb53-8462e9939092"
      },
      "execution_count": 1,
      "outputs": [
        {
          "output_type": "stream",
          "name": "stdout",
          "text": [
            "2022 Toyota Corolla\n"
          ]
        }
      ]
    },
    {
      "cell_type": "markdown",
      "source": [
        "3. Difference Between Instance Methods and Class Methods:\n",
        "Instance Methods:\n",
        "\n",
        "Operate on instances of the class.\n",
        "Require self as the first parameter, which refers to the instance of the class.\n",
        "Can access and modify instance attributes.\n",
        "Class Methods:\n",
        "\n",
        "Operate on the class itself rather than instances.\n",
        "Require cls as the first parameter, which refers to the class.\n",
        "Defined using the @classmethod decorator.\n",
        "Cannot access instance-specific data but can access and modify class-level data."
      ],
      "metadata": {
        "id": "eFiTd7csJg9_"
      }
    },
    {
      "cell_type": "code",
      "source": [
        "class Car:\n",
        "    # Class attribute\n",
        "    total_cars = 0\n",
        "\n",
        "    def __init__(self, make, model, year):\n",
        "        self.make = make\n",
        "        self.model = model\n",
        "        self.year = year\n",
        "        Car.total_cars += 1\n",
        "\n",
        "    # Instance method\n",
        "    def display_info(self):\n",
        "        \"\"\"Displays the car's information.\"\"\"\n",
        "        return f\"{self.year} {self.make} {self.model}\"\n",
        "\n",
        "    # Class method\n",
        "    @classmethod\n",
        "    def get_total_cars(cls):\n",
        "        \"\"\"Returns the total number of cars created.\"\"\"\n",
        "        return f\"Total cars: {cls.total_cars}\"\n",
        "\n",
        "# Example usage\n",
        "car1 = Car(\"Toyota\", \"Corolla\", 2022)\n",
        "car2 = Car(\"Honda\", \"Civic\", 2023)\n",
        "\n",
        "print(car1.display_info())          # Output: 2022 Toyota Corolla (Instance method)\n",
        "print(Car.get_total_cars())         # Output: Total cars: 2 (Class method)\n"
      ],
      "metadata": {
        "colab": {
          "base_uri": "https://localhost:8080/",
          "height": 0
        },
        "id": "G3r2K4QNJtd7",
        "outputId": "49aecb2e-4fae-461a-84fa-264f8f0b6cca"
      },
      "execution_count": 2,
      "outputs": [
        {
          "output_type": "stream",
          "name": "stdout",
          "text": [
            "2022 Toyota Corolla\n",
            "Total cars: 2\n"
          ]
        }
      ]
    },
    {
      "cell_type": "markdown",
      "source": [
        "4. How does Python implement method overloading? Give an example ?"
      ],
      "metadata": {
        "id": "tL6RF5E3J9ma"
      }
    },
    {
      "cell_type": "markdown",
      "source": [
        "Example of Simulating Method Overloading:"
      ],
      "metadata": {
        "id": "iy3dVDrgKpoX"
      }
    },
    {
      "cell_type": "code",
      "source": [
        "class Calculator:\n",
        "    def add(self, a, b=0, c=0):\n",
        "        \"\"\"Add up to three numbers.\"\"\"\n",
        "        return a + b + c\n",
        "\n",
        "# Example usage\n",
        "calc = Calculator()\n",
        "print(calc.add(5))             # Output: 5 (1 argument)\n",
        "print(calc.add(5, 10))         # Output: 15 (2 arguments)\n",
        "print(calc.add(5, 10, 15))     # Output: 30 (3 arguments)\n"
      ],
      "metadata": {
        "colab": {
          "base_uri": "https://localhost:8080/",
          "height": 0
        },
        "id": "imH-z5dQKAiA",
        "outputId": "bce32eea-4244-425c-9c04-0aa3ef0e43af"
      },
      "execution_count": 3,
      "outputs": [
        {
          "output_type": "stream",
          "name": "stdout",
          "text": [
            "5\n",
            "15\n",
            "30\n"
          ]
        }
      ]
    },
    {
      "cell_type": "markdown",
      "source": [
        "Using Variable-Length Arguments (*args):"
      ],
      "metadata": {
        "id": "Zpg_1VxXKuOI"
      }
    },
    {
      "cell_type": "code",
      "source": [
        "class Calculator:\n",
        "    def add(self, *args):\n",
        "        \"\"\"Add any number of values.\"\"\"\n",
        "        return sum(args)\n",
        "\n",
        "# Example usage\n",
        "calc = Calculator()\n",
        "print(calc.add(5))             # Output: 5\n",
        "print(calc.add(5, 10))         # Output: 15\n",
        "print(calc.add(5, 10, 15, 20)) # Output: 50\n"
      ],
      "metadata": {
        "colab": {
          "base_uri": "https://localhost:8080/",
          "height": 0
        },
        "id": "AtIuYQZcKSe4",
        "outputId": "eb16eb14-5c01-40a1-d4ad-6ed23fb5a278"
      },
      "execution_count": 4,
      "outputs": [
        {
          "output_type": "stream",
          "name": "stdout",
          "text": [
            "5\n",
            "15\n",
            "50\n"
          ]
        }
      ]
    },
    {
      "cell_type": "markdown",
      "source": [
        "Type Checking for Overloading-Like Behavior:\n"
      ],
      "metadata": {
        "id": "Da38ajFKKzjg"
      }
    },
    {
      "cell_type": "code",
      "source": [
        "class Printer:\n",
        "    def print_value(self, value):\n",
        "        if isinstance(value, int):\n",
        "            print(f\"Integer: {value}\")\n",
        "        elif isinstance(value, str):\n",
        "            print(f\"String: '{value}'\")\n",
        "        else:\n",
        "            print(f\"Other type: {value}\")\n",
        "\n",
        "# Example usage\n",
        "printer = Printer()\n",
        "printer.print_value(42)           # Output: Integer: 42\n",
        "printer.print_value(\"Hello\")      # Output: String: 'Hello'\n",
        "printer.print_value([1, 2, 3])    # Output: Other type: [1, 2, 3]\n"
      ],
      "metadata": {
        "colab": {
          "base_uri": "https://localhost:8080/",
          "height": 0
        },
        "id": "S6Z_lS3WKZNI",
        "outputId": "3573e706-7dce-4423-d659-f7573db5d6de"
      },
      "execution_count": 6,
      "outputs": [
        {
          "output_type": "stream",
          "name": "stdout",
          "text": [
            "Integer: 42\n",
            "String: 'Hello'\n",
            "Other type: [1, 2, 3]\n"
          ]
        }
      ]
    },
    {
      "cell_type": "markdown",
      "source": [
        "5. What are the three types of access modifiers in Python? How are they denoted?"
      ],
      "metadata": {
        "id": "_JcVoTelLAfn"
      }
    },
    {
      "cell_type": "markdown",
      "source": [
        "Access Modifiers in Python\n",
        "Python supports three types of access modifiers for controlling the visibility of class attributes and methods:\n",
        "\n",
        "1. Public Access Modifier\n",
        "Description: Attributes and methods are accessible from anywhere.\n",
        "Notation: No special prefix (default).\n",
        "Usage: Public members are the default in Python."
      ],
      "metadata": {
        "id": "UdunRwRCLMHX"
      }
    },
    {
      "cell_type": "code",
      "source": [
        "class Car:\n",
        "    def __init__(self, make, model):\n",
        "        self.make = make        # Public attribute\n",
        "        self.model = model      # Public attribute\n",
        "\n",
        "    def display_info(self):      # Public method\n",
        "        return f\"{self.make} {self.model}\"\n",
        "\n",
        "car = Car(\"Toyota\", \"Corolla\")\n",
        "print(car.make)                  # Accessible\n",
        "print(car.display_info())        # Accessible\n"
      ],
      "metadata": {
        "colab": {
          "base_uri": "https://localhost:8080/",
          "height": 0
        },
        "id": "qAVXXrBXLNho",
        "outputId": "40c675b8-4284-4740-e6f5-d5672e7fbc38"
      },
      "execution_count": 7,
      "outputs": [
        {
          "output_type": "stream",
          "name": "stdout",
          "text": [
            "Toyota\n",
            "Toyota Corolla\n"
          ]
        }
      ]
    },
    {
      "cell_type": "markdown",
      "source": [
        "2. Protected Access Modifier\n",
        "Description: Attributes and methods are accessible within the class and its subclasses, but not recommended for external use.\n",
        "Notation: Single underscore prefix _attribute or _method.\n",
        "Usage: Indicates that the member is intended for internal use."
      ],
      "metadata": {
        "id": "tK9knFzZLS2X"
      }
    },
    {
      "cell_type": "code",
      "source": [
        "class Car:\n",
        "    def __init__(self, make, model):\n",
        "        self._make = make       # Protected attribute\n",
        "        self._model = model     # Protected attribute\n",
        "\n",
        "    def _display_info(self):     # Protected method\n",
        "        return f\"{self._make} {self._model}\"\n",
        "\n",
        "class ElectricCar(Car):\n",
        "    def get_info(self):\n",
        "        return self._display_info()  # Accessible in subclass\n",
        "\n",
        "e_car = ElectricCar(\"Tesla\", \"Model S\")\n",
        "print(e_car.get_info())              # Accessible\n"
      ],
      "metadata": {
        "colab": {
          "base_uri": "https://localhost:8080/",
          "height": 0
        },
        "id": "7nYJYrsrLXah",
        "outputId": "91314315-76c7-47db-87a5-d27a41a0897f"
      },
      "execution_count": 8,
      "outputs": [
        {
          "output_type": "stream",
          "name": "stdout",
          "text": [
            "Tesla Model S\n"
          ]
        }
      ]
    },
    {
      "cell_type": "markdown",
      "source": [
        "3. Private Access Modifier\n",
        "Description: Attributes and methods are accessible only within the class where they are defined.\n",
        "Notation: Double underscore prefix __attribute or __method.\n",
        "Usage: Provides encapsulation and prevents external access."
      ],
      "metadata": {
        "id": "_7JdN9AoLebH"
      }
    },
    {
      "cell_type": "code",
      "source": [
        "class Car:\n",
        "    def __init__(self, make, model):\n",
        "        self.__make = make       # Private attribute\n",
        "        self.__model = model     # Private attribute\n",
        "\n",
        "    def __display_info(self):    # Private method\n",
        "        return f\"{self.__make} {self.__model}\"\n",
        "\n",
        "    def get_info(self):\n",
        "        return self.__display_info()  # Access private method internally\n",
        "\n",
        "car = Car(\"Ford\", \"Mustang\")\n",
        "print(car.get_info())                # Accessible via public method\n",
        "# print(car.__make)                  # Raises AttributeError\n"
      ],
      "metadata": {
        "colab": {
          "base_uri": "https://localhost:8080/",
          "height": 0
        },
        "id": "5CVUTeZzLfkv",
        "outputId": "48956413-a0ee-4809-b5a3-72917b4c32dc"
      },
      "execution_count": 9,
      "outputs": [
        {
          "output_type": "stream",
          "name": "stdout",
          "text": [
            "Ford Mustang\n"
          ]
        }
      ]
    },
    {
      "cell_type": "markdown",
      "source": [
        "Name Mangling for Private Members:\n",
        "Private members are internally name-mangled to prevent direct access. For example, __make becomes _Car__make to prevent accidental overrides."
      ],
      "metadata": {
        "id": "9Wa9OdldLjqX"
      }
    },
    {
      "cell_type": "code",
      "source": [
        "print(car._Car__make)  # Output: Ford (Accessing private member via name mangling)\n"
      ],
      "metadata": {
        "colab": {
          "base_uri": "https://localhost:8080/",
          "height": 0
        },
        "id": "vYKlSDsBLnoP",
        "outputId": "870747fc-a79b-4364-c0f2-9b97462b8f7f"
      },
      "execution_count": 10,
      "outputs": [
        {
          "output_type": "stream",
          "name": "stdout",
          "text": [
            "Ford\n"
          ]
        }
      ]
    },
    {
      "cell_type": "markdown",
      "source": [
        "6. Describe the five types of inheritance in Python. Provide a simple example of multiple inheritance ?\n",
        "\n",
        "Types of Inheritance in Python\n",
        "Inheritance allows a class (child) to inherit attributes and methods from another class (parent). Python supports five types of inheritance:\n",
        "\n",
        "1. Single Inheritance\n",
        "Description: A child class inherits from one parent class."
      ],
      "metadata": {
        "id": "Fc-XYTJOL2fB"
      }
    },
    {
      "cell_type": "code",
      "source": [
        "class Parent:\n",
        "    def greet(self):\n",
        "        return \"Hello from Parent\"\n",
        "\n",
        "class Child(Parent):\n",
        "    pass\n",
        "\n",
        "child = Child()\n",
        "print(child.greet())  # Output: Hello from Parent\n"
      ],
      "metadata": {
        "colab": {
          "base_uri": "https://localhost:8080/",
          "height": 0
        },
        "id": "iXelGCE-MJDS",
        "outputId": "1dc30851-d8b0-4028-be0c-686b271a53e2"
      },
      "execution_count": 11,
      "outputs": [
        {
          "output_type": "stream",
          "name": "stdout",
          "text": [
            "Hello from Parent\n"
          ]
        }
      ]
    },
    {
      "cell_type": "markdown",
      "source": [
        "2. Multiple Inheritance\n",
        "Description: A child class inherits from multiple parent classes."
      ],
      "metadata": {
        "id": "H01ojq_CMN7w"
      }
    },
    {
      "cell_type": "code",
      "source": [
        "class Parent1:\n",
        "    def greet1(self):\n",
        "        return \"Hello from Parent1\"\n",
        "\n",
        "class Parent2:\n",
        "    def greet2(self):\n",
        "        return \"Hello from Parent2\"\n",
        "\n",
        "class Child(Parent1, Parent2):\n",
        "    pass\n",
        "\n",
        "child = Child()\n",
        "print(child.greet1())\n",
        "print(child.greet2())\n"
      ],
      "metadata": {
        "colab": {
          "base_uri": "https://localhost:8080/",
          "height": 0
        },
        "id": "itf4pXU4MO_I",
        "outputId": "5fe7c70d-b988-4596-ba60-ed0dd8f7e4e4"
      },
      "execution_count": 12,
      "outputs": [
        {
          "output_type": "stream",
          "name": "stdout",
          "text": [
            "Hello from Parent1\n",
            "Hello from Parent2\n"
          ]
        }
      ]
    },
    {
      "cell_type": "markdown",
      "source": [
        "3. Multilevel Inheritance\n",
        "Description: A class is derived from a child class, forming a chain of inheritance."
      ],
      "metadata": {
        "id": "XwYY-AEDMY5X"
      }
    },
    {
      "cell_type": "code",
      "source": [
        "class Grandparent:\n",
        "    def greet(self):\n",
        "        return \"Hello from Grandparent\"\n",
        "\n",
        "class Parent(Grandparent):\n",
        "    pass\n",
        "\n",
        "class Child(Parent):\n",
        "    pass\n",
        "\n",
        "child = Child()\n",
        "print(child.greet())\n"
      ],
      "metadata": {
        "colab": {
          "base_uri": "https://localhost:8080/",
          "height": 0
        },
        "id": "DaKqucSBMbgp",
        "outputId": "65a670af-6990-41e3-c613-4d6a6f68d794"
      },
      "execution_count": 13,
      "outputs": [
        {
          "output_type": "stream",
          "name": "stdout",
          "text": [
            "Hello from Grandparent\n"
          ]
        }
      ]
    },
    {
      "cell_type": "markdown",
      "source": [
        "4. Hierarchical Inheritance\n",
        "Description: Multiple child classes inherit from a single parent class."
      ],
      "metadata": {
        "id": "5v0KyzVaMljy"
      }
    },
    {
      "cell_type": "code",
      "source": [
        "class Parent:\n",
        "    def greet(self):\n",
        "        return \"Hello from Parent\"\n",
        "\n",
        "class Child1(Parent):\n",
        "    pass\n",
        "\n",
        "class Child2(Parent):\n",
        "    pass\n",
        "\n",
        "child1 = Child1()\n",
        "child2 = Child2()\n",
        "print(child1.greet())\n",
        "print(child2.greet())\n"
      ],
      "metadata": {
        "colab": {
          "base_uri": "https://localhost:8080/",
          "height": 0
        },
        "id": "VsrH-9xbMm8H",
        "outputId": "2dc6a266-4a78-4b89-b577-6392bd4df176"
      },
      "execution_count": 14,
      "outputs": [
        {
          "output_type": "stream",
          "name": "stdout",
          "text": [
            "Hello from Parent\n",
            "Hello from Parent\n"
          ]
        }
      ]
    },
    {
      "cell_type": "markdown",
      "source": [
        "5. Hybrid Inheritance\n",
        "Description: A combination of multiple types of inheritance."
      ],
      "metadata": {
        "id": "JO3iAXiMMvH4"
      }
    },
    {
      "cell_type": "code",
      "source": [
        "class Parent:\n",
        "    def greet(self):\n",
        "        return \"Hello from Parent\"\n",
        "\n",
        "class Child1(Parent):\n",
        "    pass\n",
        "\n",
        "class Child2(Parent):\n",
        "    pass\n",
        "\n",
        "class GrandChild(Child1, Child2):\n",
        "    pass\n",
        "\n",
        "grandchild = GrandChild()\n",
        "print(grandchild.greet())\n"
      ],
      "metadata": {
        "colab": {
          "base_uri": "https://localhost:8080/",
          "height": 0
        },
        "id": "KMdVIMIHMxO3",
        "outputId": "367f2419-b69f-4bc4-b4a0-02f6312fe20a"
      },
      "execution_count": 15,
      "outputs": [
        {
          "output_type": "stream",
          "name": "stdout",
          "text": [
            "Hello from Parent\n"
          ]
        }
      ]
    },
    {
      "cell_type": "markdown",
      "source": [
        "Multiple Inheritance in Detail:"
      ],
      "metadata": {
        "id": "Zqme7DKMM6z5"
      }
    },
    {
      "cell_type": "code",
      "source": [
        "class Animal:\n",
        "    def speak(self):\n",
        "        return \"Animal sound\"\n",
        "\n",
        "class Bird:\n",
        "    def fly(self):\n",
        "        return \"I can fly\"\n",
        "\n",
        "class Bat(Animal, Bird):\n",
        "    pass\n",
        "\n",
        "bat = Bat()\n",
        "print(bat.speak())\n",
        "print(bat.fly())\n"
      ],
      "metadata": {
        "colab": {
          "base_uri": "https://localhost:8080/",
          "height": 0
        },
        "id": "_NqvI7k5M73i",
        "outputId": "f4cd7f50-c6b0-40f8-e063-aa813f5b18be"
      },
      "execution_count": 16,
      "outputs": [
        {
          "output_type": "stream",
          "name": "stdout",
          "text": [
            "Animal sound\n",
            "I can fly\n"
          ]
        }
      ]
    },
    {
      "cell_type": "markdown",
      "source": [
        "7. What is the Method Resolution Order (MRO) in Python? How can you retrieve it programmatically?"
      ],
      "metadata": {
        "id": "108qq63eNS6_"
      }
    },
    {
      "cell_type": "markdown",
      "source": [
        "Method Resolution Order (MRO) in Python\n",
        "The Method Resolution Order (MRO) is the sequence in which Python looks for methods and attributes in a class hierarchy. This is particularly important in the context of multiple inheritance to determine the order in which classes are searched when calling a method.\n",
        "\n",
        "Python uses the C3 Linearization Algorithm (also known as the C3 superclass linearization) to compute the MRO. This ensures:\n",
        "\n",
        "Left-to-right depth-first search in the inheritance tree.\n",
        "Consistency in method resolution across multiple inheritance paths.\n",
        "Avoidance of ambiguity in cases where a method appears in multiple parent classes.\n"
      ],
      "metadata": {
        "id": "F7aMHmhbNWwn"
      }
    },
    {
      "cell_type": "code",
      "source": [
        "class A:\n",
        "    def show(self):\n",
        "        return \"A\"\n",
        "\n",
        "class B(A):\n",
        "    def show(self):\n",
        "        return \"B\"\n",
        "\n",
        "class C(A):\n",
        "    def show(self):\n",
        "        return \"C\"\n",
        "\n",
        "class D(B, C):\n",
        "    pass\n",
        "\n",
        "d = D()\n",
        "print(d.show())\n"
      ],
      "metadata": {
        "colab": {
          "base_uri": "https://localhost:8080/",
          "height": 0
        },
        "id": "45VxfAMLNdYo",
        "outputId": "aa035b2e-8dfc-4fb9-f4e2-915002c5ca3e"
      },
      "execution_count": 17,
      "outputs": [
        {
          "output_type": "stream",
          "name": "stdout",
          "text": [
            "B\n"
          ]
        }
      ]
    },
    {
      "cell_type": "markdown",
      "source": [
        "In this example, D inherits from B and C. When d.show() is called, Python looks for the show method following the MRO and finds it in B first."
      ],
      "metadata": {
        "id": "OKGZvrUtNkCP"
      }
    },
    {
      "cell_type": "markdown",
      "source": [
        "How to Retrieve MRO Programmatically:\n",
        "Using __mro__ Attribute:"
      ],
      "metadata": {
        "id": "1C2rItefNo8A"
      }
    },
    {
      "cell_type": "code",
      "source": [
        "print(D.__mro__)\n"
      ],
      "metadata": {
        "colab": {
          "base_uri": "https://localhost:8080/",
          "height": 0
        },
        "id": "xjZXulvbNlFo",
        "outputId": "4da0d260-3b78-48af-edb9-21db71891e1c"
      },
      "execution_count": 18,
      "outputs": [
        {
          "output_type": "stream",
          "name": "stdout",
          "text": [
            "(<class '__main__.D'>, <class '__main__.B'>, <class '__main__.C'>, <class '__main__.A'>, <class 'object'>)\n"
          ]
        }
      ]
    },
    {
      "cell_type": "markdown",
      "source": [
        "2.Using mro() Method:\n",
        "\n"
      ],
      "metadata": {
        "id": "-gSAEEo3Nvhh"
      }
    },
    {
      "cell_type": "code",
      "source": [
        "print(D.mro())\n"
      ],
      "metadata": {
        "colab": {
          "base_uri": "https://localhost:8080/",
          "height": 0
        },
        "id": "EtGWLoRnN09K",
        "outputId": "81d97665-a7f8-4f3d-c874-1fc2d878ae64"
      },
      "execution_count": 19,
      "outputs": [
        {
          "output_type": "stream",
          "name": "stdout",
          "text": [
            "[<class '__main__.D'>, <class '__main__.B'>, <class '__main__.C'>, <class '__main__.A'>, <class 'object'>]\n"
          ]
        }
      ]
    },
    {
      "cell_type": "markdown",
      "source": [
        "8. Create an abstract base class `Shape` with an abstract method `area()`. Then create two subclasses\n",
        "`Circle` and `Rectangle` that implement the `area()` method.\n",
        "\n",
        "Abstract Base Class in Python with Subclasses\n",
        "In Python, abstract base classes (ABCs) are used to define a blueprint for other classes. ABCs can have abstract methods that must be implemented by subclasses. The abc module provides the tools to create abstract classes.\n",
        "\n",
        "Example: Abstract Base Class Shape with Subclasses Circle and Rectangle"
      ],
      "metadata": {
        "id": "jt1XoH7aN-nP"
      }
    },
    {
      "cell_type": "code",
      "source": [
        "from abc import ABC, abstractmethod\n",
        "import math\n",
        "\n",
        "# Abstract base class\n",
        "class Shape(ABC):\n",
        "    @abstractmethod\n",
        "    def area(self):\n",
        "        \"\"\"Abstract method to calculate the area.\"\"\"\n",
        "        pass\n",
        "\n",
        "# Circle subclass\n",
        "class Circle(Shape):\n",
        "    def __init__(self, radius):\n",
        "        self.radius = radius\n",
        "\n",
        "    def area(self):\n",
        "        \"\"\"Calculate the area of the circle.\"\"\"\n",
        "        return math.pi * self.radius ** 2\n",
        "\n",
        "# Rectangle subclass\n",
        "class Rectangle(Shape):\n",
        "    def __init__(self, width, height):\n",
        "        self.width = width\n",
        "        self.height = height\n",
        "\n",
        "    def area(self):\n",
        "        \"\"\"Calculate the area of the rectangle.\"\"\"\n",
        "        return self.width * self.height\n",
        "\n",
        "# Example usage\n",
        "circle = Circle(5)\n",
        "rectangle = Rectangle(4, 6)\n",
        "\n",
        "print(f\"Circle area: {circle.area():.2f}\")      # Output: Circle area: 78.54\n",
        "print(f\"Rectangle area: {rectangle.area()}\")    # Output: Rectangle area: 24\n"
      ],
      "metadata": {
        "colab": {
          "base_uri": "https://localhost:8080/",
          "height": 0
        },
        "id": "Wgv2Q1RyOQpH",
        "outputId": "46ff6f23-6aa2-4782-8620-f1ddb53d9de4"
      },
      "execution_count": 20,
      "outputs": [
        {
          "output_type": "stream",
          "name": "stdout",
          "text": [
            "Circle area: 78.54\n",
            "Rectangle area: 24\n"
          ]
        }
      ]
    },
    {
      "cell_type": "markdown",
      "source": [
        "9. Demonstrate polymorphism by creating a function that can work with different shape objects to calculate\n",
        "and print their areas."
      ],
      "metadata": {
        "id": "4pIOkShtO_xh"
      }
    },
    {
      "cell_type": "markdown",
      "source": [
        "Demonstrating Polymorphism with Shapes\n",
        "Polymorphism allows methods to operate on objects of different classes through a common interface. In this example, we’ll use a function that works with different shape objects, each implementing the area() method.\n",
        "\n"
      ],
      "metadata": {
        "id": "11kjOocrPD5P"
      }
    },
    {
      "cell_type": "code",
      "source": [
        "from abc import ABC, abstractmethod\n",
        "import math\n",
        "\n",
        "# Abstract base class\n",
        "class Shape(ABC):\n",
        "    @abstractmethod\n",
        "    def area(self):\n",
        "        pass\n",
        "\n",
        "# Circle subclass\n",
        "class Circle(Shape):\n",
        "    def __init__(self, radius):\n",
        "        self.radius = radius\n",
        "\n",
        "    def area(self):\n",
        "        return math.pi * self.radius ** 2\n",
        "\n",
        "# Rectangle subclass\n",
        "class Rectangle(Shape):\n",
        "    def __init__(self, width, height):\n",
        "        self.width = width\n",
        "        self.height = height\n",
        "\n",
        "    def area(self):\n",
        "        return self.width * self.height\n",
        "\n",
        "# Triangle subclass\n",
        "class Triangle(Shape):\n",
        "    def __init__(self, base, height):\n",
        "        self.base = base\n",
        "        self.height = height\n",
        "\n",
        "    def area(self):\n",
        "        return 0.5 * self.base * self.height\n",
        "\n",
        "# Polymorphic function to calculate and print areas\n",
        "def print_area(shape):\n",
        "    print(f\"The area of the {shape.__class__.__name__} is: {shape.area():.2f}\")\n",
        "\n",
        "# Example usage\n",
        "shapes = [\n",
        "    Circle(5),\n",
        "    Rectangle(4, 6),\n",
        "    Triangle(3, 4)\n",
        "]\n",
        "\n",
        "for shape in shapes:\n",
        "    print_area(shape)\n"
      ],
      "metadata": {
        "colab": {
          "base_uri": "https://localhost:8080/",
          "height": 0
        },
        "id": "jTcsxYsoPHW_",
        "outputId": "9e6908f0-3cd4-4841-8a61-627dc1397620"
      },
      "execution_count": 23,
      "outputs": [
        {
          "output_type": "stream",
          "name": "stdout",
          "text": [
            "The area of the Circle is: 78.54\n",
            "The area of the Rectangle is: 24.00\n",
            "The area of the Triangle is: 6.00\n"
          ]
        }
      ]
    },
    {
      "cell_type": "markdown",
      "source": [
        "10. Implement encapsulation in a `BankAccount` class with private attributes for `balance` and\n",
        "`account_number`. Include methods for deposit, withdrawal, and balance inquiry.\n",
        "\n",
        "Encapsulation in a BankAccount Class\n",
        "Encapsulation involves restricting direct access to an object's attributes and providing controlled access through methods. Below is a BankAccount class demonstrating encapsulation with private attributes and public methods for interaction."
      ],
      "metadata": {
        "id": "DeFM0t7JPOyZ"
      }
    },
    {
      "cell_type": "code",
      "source": [
        "class BankAccount:\n",
        "    def __init__(self, account_number, initial_balance=0):\n",
        "        self.__account_number = account_number  # Private attribute\n",
        "        self.__balance = initial_balance        # Private attribute\n",
        "\n",
        "    # Method to deposit money\n",
        "    def deposit(self, amount):\n",
        "        if amount > 0:\n",
        "            self.__balance += amount\n",
        "            print(f\"Deposited: ${amount:.2f}\")\n",
        "        else:\n",
        "            print(\"Deposit amount must be positive.\")\n",
        "\n",
        "    # Method to withdraw money\n",
        "    def withdraw(self, amount):\n",
        "        if amount <= 0:\n",
        "            print(\"Withdrawal amount must be positive.\")\n",
        "        elif amount > self.__balance:\n",
        "            print(\"Insufficient funds.\")\n",
        "        else:\n",
        "            self.__balance -= amount\n",
        "            print(f\"Withdrew: ${amount:.2f}\")\n",
        "\n",
        "    # Method to check balance\n",
        "    def get_balance(self):\n",
        "        return self.__balance\n",
        "\n",
        "    # Method to get account number\n",
        "    def get_account_number(self):\n",
        "        return self.__account_number\n",
        "\n",
        "# Example usage\n",
        "account = BankAccount(\"1234567890\", 500)\n",
        "\n",
        "# Deposit\n",
        "account.deposit(200)\n",
        "print(f\"Balance: ${account.get_balance():.2f}\")  # Output: 700.00\n",
        "\n",
        "# Withdrawal\n",
        "account.withdraw(100)\n",
        "print(f\"Balance: ${account.get_balance():.2f}\")  # Output: 600.00\n",
        "\n",
        "# Attempting direct access to private attributes (will raise an AttributeError)\n",
        "# print(account.__balance)  # Uncommenting this will raise an AttributeError\n"
      ],
      "metadata": {
        "colab": {
          "base_uri": "https://localhost:8080/",
          "height": 0
        },
        "id": "_5l5IeIAPauj",
        "outputId": "7281ca6a-1212-44ad-c200-e5a485700b01"
      },
      "execution_count": 24,
      "outputs": [
        {
          "output_type": "stream",
          "name": "stdout",
          "text": [
            "Deposited: $200.00\n",
            "Balance: $700.00\n",
            "Withdrew: $100.00\n",
            "Balance: $600.00\n"
          ]
        }
      ]
    },
    {
      "cell_type": "markdown",
      "source": [
        "11. Write a class that overrides the `__str__` and `__add__` magic methods. What will these methods allow\n",
        "you to do?\n",
        "\n",
        "Overriding __str__ and __add__ Magic Methods\n",
        "In Python, the __str__ and __add__ magic methods allow you to customize the string representation of an object and define how objects of a class can be added together, respectively.\n",
        "\n",
        "__str__: This method is used to define the string representation of an object, which is what Python will use when you call str() on an instance of the class or use print() with the object.\n",
        "__add__: This method is used to define the behavior of the addition operator (+) for objects of the class."
      ],
      "metadata": {
        "id": "fN1bKp3WPjci"
      }
    },
    {
      "cell_type": "code",
      "source": [
        "class Book:\n",
        "    def __init__(self, title, author):\n",
        "        self.title = title\n",
        "        self.author = author\n",
        "\n",
        "    # Overriding the __str__ method\n",
        "    def __str__(self):\n",
        "        return f\"Book: {self.title} by {self.author}\"\n",
        "\n",
        "    # Overriding the __add__ method\n",
        "    def __add__(self, other):\n",
        "        if isinstance(other, Book):\n",
        "            return f\"Combined Book: {self.title} & {other.title}\"\n",
        "        return \"Cannot combine with non-Book object\"\n",
        "\n",
        "# Example usage\n",
        "book1 = Book(\"The Great Gatsby\", \"F. Scott Fitzgerald\")\n",
        "book2 = Book(\"1984\", \"George Orwell\")\n",
        "\n",
        "# Using the __str__ method\n",
        "print(book1)\n",
        "\n",
        "# Using the __add__ method\n",
        "combined_book = book1 + book2\n",
        "print(combined_book)\n"
      ],
      "metadata": {
        "colab": {
          "base_uri": "https://localhost:8080/",
          "height": 0
        },
        "id": "EC-TC7nrPzXi",
        "outputId": "b633615e-6dbb-4fed-8f5a-a1dbcfa0b31b"
      },
      "execution_count": 25,
      "outputs": [
        {
          "output_type": "stream",
          "name": "stdout",
          "text": [
            "Book: The Great Gatsby by F. Scott Fitzgerald\n",
            "Combined Book: The Great Gatsby & 1984\n"
          ]
        }
      ]
    },
    {
      "cell_type": "markdown",
      "source": [
        "12. Create a decorator that measures and prints the execution time of a function.\n",
        "\n",
        "Creating a Decorator to Measure Execution Time\n",
        "A decorator is a function that wraps another function to modify or enhance its behavior. In this case, we can create a decorator that measures and prints the execution time of a function.\n",
        "\n",
        "We'll use Python's built-in time module to track the start and end times of the function's execution.\n",
        "\n"
      ],
      "metadata": {
        "id": "7XYJGZHBQKQA"
      }
    },
    {
      "cell_type": "code",
      "source": [
        "import time\n",
        "\n",
        "# Decorator to measure execution time\n",
        "def time_execution(func):\n",
        "    def wrapper(*args, **kwargs):\n",
        "        start_time = time.time()  # Record start time\n",
        "        result = func(*args, **kwargs)  # Call the decorated function\n",
        "        end_time = time.time()  # Record end time\n",
        "        execution_time = end_time - start_time  # Calculate the execution time\n",
        "        print(f\"Execution time of {func.__name__}: {execution_time:.4f} seconds\")\n",
        "        return result\n",
        "    return wrapper\n",
        "\n",
        "# Example function to decorate\n",
        "@time_execution\n",
        "def slow_function():\n",
        "    time.sleep(2)  # Simulating a slow operation by sleeping for 2 seconds\n",
        "    print(\"Function finished execution!\")\n",
        "\n",
        "# Example usage\n",
        "slow_function()\n"
      ],
      "metadata": {
        "colab": {
          "base_uri": "https://localhost:8080/",
          "height": 0
        },
        "id": "Lm_DZxVsQbtw",
        "outputId": "c026bb63-dab4-4f57-b4df-ec226f0ec17d"
      },
      "execution_count": 26,
      "outputs": [
        {
          "output_type": "stream",
          "name": "stdout",
          "text": [
            "Function finished execution!\n",
            "Execution time of slow_function: 2.0031 seconds\n"
          ]
        }
      ]
    },
    {
      "cell_type": "markdown",
      "source": [
        "13. Explain the concept of the Diamond Problem in multiple inheritance. How does Python resolve it?\n",
        "\n",
        "The Diamond Problem in Multiple Inheritance\n",
        "The Diamond Problem (also called the Deadly Diamond of Death) occurs in object-oriented programming when a class inherits from two classes that have a common ancestor. This can lead to ambiguity in the method resolution order (MRO) because the child class inherits from two classes that, in turn, inherit from the same base class. This creates a \"diamond-shaped\" inheritance structure.\n",
        "\n",
        "The Diamond Problem Diagram:\n",
        "css\n",
        "Copy code\n",
        "        A\n",
        "       / \\\n",
        "      B   C\n",
        "       \\ /\n",
        "        D\n",
        "Class D inherits from both Class B and Class C.\n",
        "Both Class B and Class C inherit from Class A.\n",
        "If Class D calls a method from Class A, it can be unclear whether it should call the method from B or C because both are derived from A.\n",
        "Issues Caused by the Diamond Problem:\n",
        "Ambiguity: When a method is called on a class that inherits from multiple classes, there could be confusion as to which parent class's method should be invoked.\n",
        "Redundancy: Without proper method resolution, the parent class's method might be inherited multiple times, leading to potential redundancy.\n",
        "How Python Resolves the Diamond Problem:\n",
        "Python resolves the Diamond Problem using a method called C3 Linearization or C3 superclass linearization. This algorithm ensures a consistent order in which classes are searched for methods.\n",
        "\n",
        "The C3 Linearization gives a specific order in which methods should be inherited, taking into account both depth-first search and left-to-right traversal.\n",
        "Python uses the Method Resolution Order (MRO) to determine the order in which classes are searched when calling a method.\n",
        "How Python Handles MRO:\n",
        "In Python, the MRO (Method Resolution Order) is computed using C3 Linearization, which ensures that each class in the inheritance chain is only called once, and that the method search follows a consistent order.\n",
        "\n",
        "You can view the MRO of a class by using the mro() method or the __mro__ attribute."
      ],
      "metadata": {
        "id": "OXGfaki7QruC"
      }
    },
    {
      "cell_type": "code",
      "source": [
        "class A:\n",
        "    def show(self):\n",
        "        print(\"A's show method\")\n",
        "\n",
        "class B(A):\n",
        "    def show(self):\n",
        "        print(\"B's show method\")\n",
        "\n",
        "class C(A):\n",
        "    def show(self):\n",
        "        print(\"C's show method\")\n",
        "\n",
        "class D(B, C):\n",
        "    pass\n",
        "\n",
        "# Example usage\n",
        "d = D()\n",
        "d.show()\n"
      ],
      "metadata": {
        "colab": {
          "base_uri": "https://localhost:8080/",
          "height": 0
        },
        "id": "BaepVRzPQ4CI",
        "outputId": "31fc56fa-9fb4-4881-a11d-3b38aeae91f6"
      },
      "execution_count": 27,
      "outputs": [
        {
          "output_type": "stream",
          "name": "stdout",
          "text": [
            "B's show method\n"
          ]
        }
      ]
    },
    {
      "cell_type": "markdown",
      "source": [
        "Viewing the MRO of a Class:\n",
        "You can inspect the method resolution order (MRO) of a class by calling the mro() method or by accessing the __mro__ attribute."
      ],
      "metadata": {
        "id": "thiJWSYMQ9X5"
      }
    },
    {
      "cell_type": "code",
      "source": [
        "print(D.mro())  # This will print the MRO of class D\n"
      ],
      "metadata": {
        "colab": {
          "base_uri": "https://localhost:8080/",
          "height": 0
        },
        "id": "nGC0dm-PQ-ZA",
        "outputId": "97718ecc-7e36-4efb-f2cb-6c35d743c737"
      },
      "execution_count": 28,
      "outputs": [
        {
          "output_type": "stream",
          "name": "stdout",
          "text": [
            "[<class '__main__.D'>, <class '__main__.B'>, <class '__main__.C'>, <class '__main__.A'>, <class 'object'>]\n"
          ]
        }
      ]
    },
    {
      "cell_type": "markdown",
      "source": [
        "14. Write a class method that keeps track of the number of instances created from a class.\n",
        "\n",
        "Class Method to Track the Number of Instances\n",
        "In Python, you can use a class method to modify or access the state of the class itself (as opposed to instance methods, which operate on individual object instances). To track the number of instances created from a class, you can use a class attribute, and the class method can update this attribute every time a new instance is created."
      ],
      "metadata": {
        "id": "X1CFPTpPRMNw"
      }
    },
    {
      "cell_type": "code",
      "source": [
        "class MyClass:\n",
        "    # Class attribute to keep track of the number of instances\n",
        "    instance_count = 0\n",
        "\n",
        "    def __init__(self):\n",
        "        # Increment the instance count every time a new instance is created\n",
        "        MyClass.instance_count += 1\n",
        "\n",
        "    # Class method to get the current number of instances\n",
        "    @classmethod\n",
        "    def get_instance_count(cls):\n",
        "        return cls.instance_count\n",
        "\n",
        "# Example usage\n",
        "obj1 = MyClass()  # Creates the first instance\n",
        "obj2 = MyClass()  # Creates the second instance\n",
        "obj3 = MyClass()  # Creates the third instance\n",
        "\n",
        "print(MyClass.get_instance_count())\n"
      ],
      "metadata": {
        "colab": {
          "base_uri": "https://localhost:8080/",
          "height": 0
        },
        "id": "xRj594QjRWOC",
        "outputId": "3697d142-af63-4ec3-8634-407ba1d08fee"
      },
      "execution_count": 29,
      "outputs": [
        {
          "output_type": "stream",
          "name": "stdout",
          "text": [
            "3\n"
          ]
        }
      ]
    },
    {
      "cell_type": "markdown",
      "source": [
        "15. Implement a static method in a class that checks if a given year is a leap year.\n",
        "\n",
        "Static Method to Check if a Year is a Leap Year\n",
        "A static method is a method that belongs to the class rather than an instance of the class. It does not take the instance (self) or class (cls) as its first argument, and it is used for functionality that doesn't depend on the state of the instance or class.\n",
        "\n",
        "To implement a static method that checks if a given year is a leap year, we need to follow these rules:\n",
        "\n",
        "A year is a leap year if it is divisible by 4.\n",
        "However, if the year is divisible by 100, it must also be divisible by 400 to be considered a leap year."
      ],
      "metadata": {
        "id": "DeMvElmdRgOJ"
      }
    },
    {
      "cell_type": "code",
      "source": [
        "class YearUtils:\n",
        "    @staticmethod\n",
        "    def is_leap_year(year):\n",
        "        # Check if the year is a leap year\n",
        "        if (year % 4 == 0 and year % 100 != 0) or (year % 400 == 0):\n",
        "            return True\n",
        "        else:\n",
        "            return False\n",
        "\n",
        "# Example usage\n",
        "year = 2024\n",
        "print(f\"{year} is a leap year: {YearUtils.is_leap_year(year)}\")\n",
        "\n",
        "year = 2023\n",
        "print(f\"{year} is a leap year: {YearUtils.is_leap_year(year)}\")\n"
      ],
      "metadata": {
        "colab": {
          "base_uri": "https://localhost:8080/",
          "height": 0
        },
        "id": "t2sl6YG6Rr9g",
        "outputId": "2701baa5-4fd7-4b66-8955-c08a0f14aa58"
      },
      "execution_count": 30,
      "outputs": [
        {
          "output_type": "stream",
          "name": "stdout",
          "text": [
            "2024 is a leap year: True\n",
            "2023 is a leap year: False\n"
          ]
        }
      ]
    }
  ]
}